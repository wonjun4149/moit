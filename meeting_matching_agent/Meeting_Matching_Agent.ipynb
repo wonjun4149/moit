{
 "cells": [
  {
   "cell_type": "code",
   "execution_count": 1,
   "id": "81f9c1c3",
   "metadata": {},
   "outputs": [
    {
     "data": {
      "text/plain": [
       "True"
      ]
     },
     "execution_count": 1,
     "metadata": {},
     "output_type": "execute_result"
    }
   ],
   "source": [
    "import os\n",
    "from dotenv import load_dotenv\n",
    "\n",
    "load_dotenv()"
   ]
  },
  {
   "cell_type": "code",
   "execution_count": 2,
   "id": "70785b3b",
   "metadata": {},
   "outputs": [],
   "source": [
    "from typing import List, TypedDict\n",
    "from langchain_core.documents import Document\n",
    "from langgraph.graph import StateGraph\n",
    "\n",
    "class AgentState(TypedDict):\n",
    "    query: str\n",
    "    context: List[Document]\n",
    "    answer: str\n",
    "    rewrite_count: int\n",
    "    decision: str"
   ]
  },
  {
   "cell_type": "code",
   "execution_count": null,
   "id": "1f218505",
   "metadata": {},
   "outputs": [
    {
     "name": "stderr",
     "output_type": "stream",
     "text": [
      "c:\\Users\\user\\MOIT\\MOIT_AGENT\\MOIT_graph\\Lib\\site-packages\\tqdm\\auto.py:21: TqdmWarning: IProgress not found. Please update jupyter and ipywidgets. See https://ipywidgets.readthedocs.io/en/stable/user_install.html\n",
      "  from .autonotebook import tqdm as notebook_tqdm\n",
      "c:\\Users\\user\\MOIT\\MOIT_AGENT\\MOIT_graph\\Lib\\site-packages\\langchain_pinecone\\__init__.py:3: LangChainDeprecationWarning: As of langchain-core 0.3.0, LangChain uses pydantic v2 internally. The langchain_core.pydantic_v1 module was a compatibility shim for pydantic v1, and should no longer be used. Please update the code to import from Pydantic directly.\n",
      "\n",
      "For example, replace imports like: `from langchain_core.pydantic_v1 import BaseModel`\n",
      "with: `from pydantic import BaseModel`\n",
      "or the v1 compatibility namespace if you are working in a code base that has not been fully upgraded to pydantic 2 yet. \tfrom pydantic.v1 import BaseModel\n",
      "\n",
      "  from langchain_pinecone.vectorstores import Pinecone, PineconeVectorStore\n"
     ]
    },
    {
     "ename": "NameError",
     "evalue": "name 'vector_store' is not defined",
     "output_type": "error",
     "traceback": [
      "\u001b[31m---------------------------------------------------------------------------\u001b[39m",
      "\u001b[31mNameError\u001b[39m                                 Traceback (most recent call last)",
      "\u001b[36mCell\u001b[39m\u001b[36m \u001b[39m\u001b[32mIn[4]\u001b[39m\u001b[32m, line 35\u001b[39m\n\u001b[32m      4\u001b[39m \u001b[38;5;28;01mfrom\u001b[39;00m\u001b[38;5;250m \u001b[39m\u001b[34;01mlangchain_pinecone\u001b[39;00m\u001b[38;5;250m \u001b[39m\u001b[38;5;28;01mimport\u001b[39;00m PineconeVectorStore\n\u001b[32m      6\u001b[39m \u001b[38;5;66;03m# # --- 데이터베이스 준비 (수동 생성한 Pinecone 인덱스 불러오기) ---\u001b[39;00m\n\u001b[32m      7\u001b[39m \n\u001b[32m      8\u001b[39m \u001b[38;5;66;03m# # 1. .env 파일에서 Pinecone 인덱스 이름과 API 키를 가져옵니다.\u001b[39;00m\n\u001b[32m   (...)\u001b[39m\u001b[32m     33\u001b[39m \n\u001b[32m     34\u001b[39m \u001b[38;5;66;03m# 5. Retriever를 생성합니다.\u001b[39;00m\n\u001b[32m---> \u001b[39m\u001b[32m35\u001b[39m retriever = \u001b[43mvector_store\u001b[49m.as_retriever(search_kwargs={\u001b[33m'\u001b[39m\u001b[33mk\u001b[39m\u001b[33m'\u001b[39m: \u001b[32m3\u001b[39m})\n\u001b[32m     37\u001b[39m \u001b[38;5;28mprint\u001b[39m(\u001b[33mf\u001b[39m\u001b[33m\"\u001b[39m\u001b[33m수동으로 생성한 Pinecone 인덱스 \u001b[39m\u001b[33m'\u001b[39m\u001b[38;5;132;01m{\u001b[39;00mindex_name\u001b[38;5;132;01m}\u001b[39;00m\u001b[33m'\u001b[39m\u001b[33m를 성공적으로 불러왔습니다.\u001b[39m\u001b[33m\"\u001b[39m)\n",
      "\u001b[31mNameError\u001b[39m: name 'vector_store' is not defined"
     ]
    }
   ],
   "source": [
    "import os\n",
    "from langchain_core.documents import Document\n",
    "from langchain_openai import OpenAIEmbeddings\n",
    "from langchain_pinecone import PineconeVectorStore\n",
    "\n",
    "# # --- 데이터베이스 준비 (수동 생성한 Pinecone 인덱스 불러오기) ---\n",
    "\n",
    "# # 1. .env 파일에서 Pinecone 인덱스 이름과 API 키를 가져옵니다.\n",
    "# index_name = os.getenv(\"PINECONE_INDEX_NAME\")\n",
    "# if not os.getenv(\"PINECONE_API_KEY\") or not index_name:\n",
    "#     print(\"PINECONE_API_KEY 또는 PINECONE_INDEX_NAME이 설정되지 않았습니다.\")\n",
    "\n",
    "# # 2. 임베딩 함수를 초기화합니다.\n",
    "# embedding_function = OpenAIEmbeddings(model='text-embedding-3-large')\n",
    "\n",
    "# # 3. 임시 데이터를 준비합니다. (수동 생성한 빈 인덱스에 채워넣을 데이터)\n",
    "# temp_documents = [\n",
    "#     Document(page_content=\"[강남] 매주 토요일 저녁 7시, 초보자를 위한 코딩 스터디 모임입니다. 파이썬 기초부터 함께 공부해요.\", metadata={\"location\": \"강남\", \"day\": \"토\"}),\n",
    "#     Document(page_content=\"[홍대] 주말 오후 2시, 다 함께 보드게임 즐길 사람 모여라! 초심자 대환영.\", metadata={\"location\": \"홍대\", \"day\": \"주말\"}),\n",
    "#     Document(page_content=\"[온라인] 격주 수요일 저녁 9시, '사피엔스' 함께 읽고 토론하는 온라인 독서 모임.\", metadata={\"location\": \"온라인\", \"day\": \"수\"}),\n",
    "# ]\n",
    "\n",
    "# # 4. PineconeVectorStore.from_documents를 사용해 데이터를 추가하고 VectorStore 객체를 생성합니다.\n",
    "# # 이 함수는 인덱스가 비어있으면 데이터를 추가하고, 데이터가 있으면 그냥 연결만 합니다.\n",
    "# print(f\"수동으로 생성한 '{index_name}' 인덱스에 연결하고 데이터를 확인/추가합니다...\")\n",
    "# vector_store = PineconeVectorStore.from_documents(\n",
    "#     documents=temp_documents,\n",
    "#     embedding=embedding_function,\n",
    "#     index_name=index_name\n",
    "# )\n",
    "# print(\"데이터 준비 완료!\")\n",
    "\n",
    "\n",
    "# 5. Retriever를 생성합니다.\n",
    "retriever = vector_store.as_retriever(search_kwargs={'k': 3})\n",
    "\n",
    "print(f\"수동으로 생성한 Pinecone 인덱스 '{index_name}'를 성공적으로 불러왔습니다.\")"
   ]
  },
  {
   "cell_type": "code",
   "execution_count": null,
   "id": "42feff66",
   "metadata": {},
   "outputs": [],
   "source": [
    "# --- 에이전트의 행동(Node) 정의 (이전과 동일) ---\n",
    "\n",
    "def retrieve(state: AgentState):\n",
    "    \"\"\"DB에서 관련 모임 정보를 검색합니다.\"\"\"\n",
    "    print(\"--- 1. RETRIEVE (from existing Pinecone index) ---\")\n",
    "    query = state['query']\n",
    "    context = retriever.invoke(query)\n",
    "    print(\"검색된 정보:\", [doc.page_content for doc in context])\n",
    "    return {\"context\": context}\n",
    "\n",
    "def generate(state: AgentState):\n",
    "    \"\"\"검색된 정보를 바탕으로 답변을 생성합니다.\"\"\"\n",
    "    print(\"--- 2. GENERATE ---\")\n",
    "    answer = \"임시 답변: 기존 Pinecone 인덱스에서 검색된 정보를 바탕으로 모임을 추천합니다.\"\n",
    "    return {\"answer\": answer}\n",
    "\n",
    "def check_helpfulness(state: AgentState):\n",
    "    \"\"\"답변이 사용자에게 도움이 되는지 검증합니다.\"\"\"\n",
    "    print(\"--- 3. CHECK HELPFULNESS (LLM 호출) ---\")\n",
    "    \n",
    "    query = state['query']\n",
    "    answer = state['answer']\n",
    "    \n",
    "    result = check_helpfulness_chain.invoke({\n",
    "        \"query\": query,\n",
    "        \"answer\": answer\n",
    "    })\n",
    "    \n",
    "    print(\"판단 결과:\", result)\n",
    "\n",
    "    # 결과를 사전 형태로 반환하도록 수정!\n",
    "    if 'helpful' in result.lower():\n",
    "        print(\"DECISION: helpful\")\n",
    "        return {\"decision\": \"helpful\"}\n",
    "    else:\n",
    "        print(\"DECISION: unhelpful\")\n",
    "        return {\"decision\": \"unhelpful\"}\n",
    "\n",
    "def rewrite_query(state: AgentState):\n",
    "    \"\"\"검색 결과가 별로일 때, 질문을 더 좋게 다시 작성합니다.\"\"\"\n",
    "    print(\"--- 4. REWRITE QUERY ---\")\n",
    "    new_query = state['query'] + \" (더 구체적인 정보)\"\n",
    "    count = state.get('rewrite_count', 0) + 1\n",
    "    print(\"새로운 질문:\", new_query)\n",
    "    return {\"query\": new_query, \"rewrite_count\": count}"
   ]
  },
  {
   "cell_type": "code",
   "execution_count": 5,
   "id": "6b8f2bbb",
   "metadata": {},
   "outputs": [
    {
     "ename": "NameError",
     "evalue": "name 'retrieve' is not defined",
     "output_type": "error",
     "traceback": [
      "\u001b[31m---------------------------------------------------------------------------\u001b[39m",
      "\u001b[31mNameError\u001b[39m                                 Traceback (most recent call last)",
      "\u001b[36mCell\u001b[39m\u001b[36m \u001b[39m\u001b[32mIn[5]\u001b[39m\u001b[32m, line 7\u001b[39m\n\u001b[32m      3\u001b[39m graph_builder = StateGraph(AgentState)\n\u001b[32m      5\u001b[39m \u001b[38;5;66;03m# --- 노드(행동)들을 그래프에 추가 ---\u001b[39;00m\n\u001b[32m      6\u001b[39m \u001b[38;5;66;03m# 각 함수를 그래프의 '방'으로 등록합니다.\u001b[39;00m\n\u001b[32m----> \u001b[39m\u001b[32m7\u001b[39m graph_builder.add_node(\u001b[33m\"\u001b[39m\u001b[33mretrieve\u001b[39m\u001b[33m\"\u001b[39m, \u001b[43mretrieve\u001b[49m)\n\u001b[32m      8\u001b[39m graph_builder.add_node(\u001b[33m\"\u001b[39m\u001b[33mgenerate\u001b[39m\u001b[33m\"\u001b[39m, generate)\n\u001b[32m      9\u001b[39m graph_builder.add_node(\u001b[33m\"\u001b[39m\u001b[33mcheck_helpfulness\u001b[39m\u001b[33m\"\u001b[39m, check_helpfulness)\n",
      "\u001b[31mNameError\u001b[39m: name 'retrieve' is not defined"
     ]
    }
   ],
   "source": [
    "from langgraph.graph import StateGraph, END\n",
    "\n",
    "graph_builder = StateGraph(AgentState)\n",
    "\n",
    "# --- 노드(행동)들을 그래프에 추가 ---\n",
    "# 각 함수를 그래프의 '방'으로 등록합니다.\n",
    "graph_builder.add_node(\"retrieve\", retrieve)\n",
    "graph_builder.add_node(\"generate\", generate)\n",
    "graph_builder.add_node(\"check_helpfulness\", check_helpfulness)\n",
    "graph_builder.add_node(\"rewrite_query\", rewrite_query)"
   ]
  },
  {
   "cell_type": "code",
   "execution_count": 6,
   "id": "dd271ca4",
   "metadata": {},
   "outputs": [
    {
     "data": {
      "text/plain": [
       "<langgraph.graph.state.StateGraph at 0x24658c03620>"
      ]
     },
     "execution_count": 6,
     "metadata": {},
     "output_type": "execute_result"
    }
   ],
   "source": [
    "# --- 엣지(행동 순서)를 그래프에 연결 ---\n",
    "\n",
    "# 1. 시작점(Entry Point) 설정\n",
    "# 이 부분이 바로 그래프의 시작(START)을 지정하는 역할을 합니다.\n",
    "# \"이 그래프는 'retrieve' 노드에서 시작한다\"고 알려주는 것과 같습니다.\n",
    "graph_builder.set_entry_point(\"retrieve\")\n",
    "\n",
    "# 2. 일반 엣지 연결\n",
    "# 'retrieve'가 끝나면 'generate'로 갑니다.\n",
    "graph_builder.add_edge(\"retrieve\", \"generate\")\n",
    "# 'generate'가 끝나면 'check_helpfulness'로 갑니다.\n",
    "graph_builder.add_edge(\"generate\", \"check_helpfulness\")"
   ]
  },
  {
   "cell_type": "code",
   "execution_count": 7,
   "id": "0159cd32",
   "metadata": {},
   "outputs": [
    {
     "data": {
      "text/plain": [
       "<langgraph.graph.state.StateGraph at 0x24658c03620>"
      ]
     },
     "execution_count": 7,
     "metadata": {},
     "output_type": "execute_result"
    }
   ],
   "source": [
    "# 3. 조건부 엣지 연결 (가장 중요한 부분!)\n",
    "# 업데이트된 state의 'decision' 값을 보고 다음 목적지를 결정하도록 수정!\n",
    "graph_builder.add_conditional_edges(\n",
    "    \"check_helpfulness\",\n",
    "    lambda state: state['decision'], # state에서 'decision' 값을 읽어서 판단\n",
    "    {\n",
    "        \"helpful\": END,\n",
    "        \"unhelpful\": \"rewrite_query\"\n",
    "    }\n",
    ")\n",
    "\n",
    "# 'rewrite_query'가 끝나면, 다시 'retrieve'로 돌아가서 처음부터 시작합니다. (순환 구조)\n",
    "graph_builder.add_edge(\"rewrite_query\", \"retrieve\")"
   ]
  },
  {
   "cell_type": "code",
   "execution_count": 8,
   "id": "0a2d0816",
   "metadata": {},
   "outputs": [],
   "source": [
    "# --- 최종 그래프 컴파일 ---\n",
    "# 지금까지 설계한 내용을 바탕으로 실행 가능한 앱(에이전트)을 만듭니다.\n",
    "meeting_agent = graph_builder.compile()"
   ]
  },
  {
   "cell_type": "code",
   "execution_count": 9,
   "id": "60ba2c33",
   "metadata": {},
   "outputs": [
    {
     "data": {
      "image/png": "[encoded data removed]",
      "text/plain": [
       "<IPython.core.display.Image object>"
      ]
     },
     "metadata": {},
     "output_type": "display_data"
    }
   ],
   "source": [
    "from IPython.display import Image, display\n",
    "\n",
    "display(Image(meeting_agent.get_graph().draw_mermaid_png()))"
   ]
  },
  {
   "cell_type": "code",
   "execution_count": 4,
   "id": "89e5f39c",
   "metadata": {},
   "outputs": [
    {
     "name": "stdout",
     "output_type": "stream",
     "text": [
      "모든 노드 함수가 실제 LLM 로직으로 업데이트되었습니다!\n"
     ]
    }
   ],
   "source": [
    "from langchain_openai import ChatOpenAI\n",
    "from langchain_core.prompts import ChatPromptTemplate\n",
    "from langchain_core.output_parsers import JsonOutputParser, StrOutputParser\n",
    "\n",
    "# --- LLM 모델 정의 ---\n",
    "# gpt-4o-mini 모델을 사용하겠습니다. 더 좋은 성능을 원하시면 gpt-4o 등으로 변경 가능합니다.\n",
    "llm = ChatOpenAI(model=\"gpt-4o-mini\")\n",
    "\n",
    "# --- 1. 답변 생성(Generate) 노드 로직 ---\n",
    "\n",
    "# 답변 생성을 위한 프롬프트 템플릿\n",
    "generate_prompt = ChatPromptTemplate.from_template(\n",
    "    \"\"\"당신은 MOIT 플랫폼의 친절한 모임 추천 AI입니다.\n",
    "    사용자에게 모임을 추천할 때는 반드시 아래 [검색된 정보]를 기반으로, 어떤 모임인지 명확하게 설명해주세요.\n",
    "\n",
    "    [검색된 정보]:\n",
    "    {context}\n",
    "\n",
    "    [사용자 질문]:\n",
    "    {query}\n",
    "    \"\"\"\n",
    ")\n",
    "\n",
    "# 답변을 문자열(String) 형태로 받기 위한 체인\n",
    "generate_chain = generate_prompt | llm | StrOutputParser()\n",
    "\n",
    "# 기존 generate 함수를 실제 LLM을 호출하도록 수정\n",
    "def generate(state: AgentState):\n",
    "    \"\"\"검색된 정보를 바탕으로 답변을 생성합니다.\"\"\"\n",
    "    print(\"--- 2. GENERATE (LLM 호출) ---\")\n",
    "    \n",
    "    query = state['query']\n",
    "    context_docs = state['context']\n",
    "    # Document 객체의 page_content만 추출하여 문자열로 합칩니다.\n",
    "    context = \"\\n\\n\".join(doc.page_content for doc in context_docs)\n",
    "\n",
    "    answer = generate_chain.invoke({\n",
    "        \"context\": context,\n",
    "        \"query\": query\n",
    "    })\n",
    "    \n",
    "    print(\"생성된 답변:\", answer)\n",
    "    return {\"answer\": answer}\n",
    "\n",
    "\n",
    "# --- 2. 유용성 검증(Check Helpfulness) 노드 로직 ---\n",
    "\n",
    "# 답변이 유용한지 판단하기 위한 프롬프트 템플릿\n",
    "check_helpfulness_prompt = ChatPromptTemplate.from_template(\n",
    "    \"\"\"당신은 AI 답변을 평가하는 엄격한 평가관입니다.\n",
    "    주어진 [AI 답변]이 사용자의 [원본 질문]에 대해 정말로 유용하고 직접적인 답변을 하는지 평가해주세요.\n",
    "\n",
    "    'helpful' 또는 'unhelpful' 둘 중 하나로만 답변해야 합니다.\n",
    "\n",
    "    [원본 질문]: {query}\n",
    "    [AI 답변]: {answer}\n",
    "    \"\"\"\n",
    ")\n",
    "\n",
    "# 답변을 'helpful' 또는 'unhelpful' 문자열로 받기 위한 체인\n",
    "check_helpfulness_chain = check_helpfulness_prompt | llm | StrOutputParser()\n",
    "\n",
    "# 기존 check_helpfulness 함수를 실제 LLM이 판단하도록 수정\n",
    "def check_helpfulness(state: AgentState):\n",
    "    \"\"\"답변이 사용자에게 도움이 되는지 검증합니다.\"\"\"\n",
    "    print(\"--- 3. CHECK HELPFULNESS (LLM 호출) ---\")\n",
    "    \n",
    "    query = state['query']\n",
    "    answer = state['answer']\n",
    "    \n",
    "    result = check_helpfulness_chain.invoke({\n",
    "        \"query\": query,\n",
    "        \"answer\": answer\n",
    "    })\n",
    "    \n",
    "    print(\"판단 결과:\", result)\n",
    "    # 결과를 사전 형태로 반환하도록 수정!\n",
    "    if 'helpful' in result.lower():\n",
    "        print(\"DECISION: helpful\")\n",
    "        return {\"decision\": \"helpful\"} # <-- 정상! 사전 형태로 보고서 제출\n",
    "    else:\n",
    "        print(\"DECISION: unhelpful\")\n",
    "        return {\"decision\": \"unhelpful\"} # <-- 정상! 사전 형태로 보고서 제출\n",
    "\n",
    "\n",
    "# --- 3. 질문 재작성(Rewrite Query) 노드 로직 ---\n",
    "\n",
    "# 질문을 다시 쓰기 위한 프롬프트 템플릿\n",
    "rewrite_query_prompt = ChatPromptTemplate.from_template(\n",
    "    \"\"\"당신은 사용자의 질문을 더 좋은 검색 결과가 나올 수 있도록 명확하게 다듬는 프롬프트 엔지니어입니다.\n",
    "    주어진 [원본 질문]을 바탕으로, 벡터 데이터베이스에서 더 관련성 높은 모임 정보를 찾을 수 있는 새로운 검색 질문을 하나만 만들어주세요.\n",
    "    \n",
    "    결과는 오직 새로운 검색 질문 텍스트만 포함해야 합니다.\n",
    "\n",
    "    [원본 질문]: {query}\n",
    "    \"\"\"\n",
    ")\n",
    "\n",
    "# 새로운 질문을 문자열로 받기 위한 체인\n",
    "rewrite_query_chain = rewrite_query_prompt | llm | StrOutputParser()\n",
    "\n",
    "# 기존 rewrite_query 함수를 실제 LLM이 재작성하도록 수정\n",
    "def rewrite_query(state: AgentState):\n",
    "    \"\"\"검색 결과가 별로일 때, 질문을 더 좋게 다시 작성합니다.\"\"\"\n",
    "    print(\"--- 4. REWRITE QUERY (LLM 호출) ---\")\n",
    "    \n",
    "    query = state['query']\n",
    "    \n",
    "    new_query = rewrite_query_chain.invoke({\"query\": query})\n",
    "    count = state.get('rewrite_count', 0) + 1\n",
    "    \n",
    "    print(\"새롭게 작성된 질문:\", new_query)\n",
    "    return {\"query\": new_query, \"rewrite_count\": count}\n",
    "\n",
    "\n",
    "print(\"모든 노드 함수가 실제 LLM 로직으로 업데이트되었습니다!\")"
   ]
  },
  {
   "cell_type": "code",
   "execution_count": 11,
   "id": "4816e417",
   "metadata": {},
   "outputs": [
    {
     "name": "stdout",
     "output_type": "stream",
     "text": [
      "--- 1. RETRIEVE (from existing Pinecone index) ---\n",
      "검색된 정보: ['[강남] 매주 토요일 저녁 7시, 초보자를 위한 코딩 스터디 모임입니다. 파이썬 기초부터 함께 공부해요.', '[강남] 매주 토요일 저녁 7시, 초보자를 위한 코딩 스터디 모임입니다. 파이썬 기초부터 함께 공부해요.']\n",
      "--- Event: 'retrieve' 노드 실행 ---\n",
      "{'context': [Document(id='2d1223cd-cde8-4a11-bf03-2c27035d9747', metadata={'day': '토', 'location': '강남'}, page_content='[강남] 매주 토요일 저녁 7시, 초보자를 위한 코딩 스터디 모임입니다. 파이썬 기초부터 함께 공부해요.'), Document(id='e697e43b-c499-4556-b61e-10550c17b9c5', metadata={'day': '토', 'location': '강남'}, page_content='[강남] 매주 토요일 저녁 7시, 초보자를 위한 코딩 스터디 모임입니다. 파이썬 기초부터 함께 공부해요.')]}\n",
      "\n",
      "==============================\n",
      "\n",
      "--- 2. GENERATE ---\n",
      "--- Event: 'generate' 노드 실행 ---\n",
      "{'answer': '임시 답변: 기존 Pinecone 인덱스에서 검색된 정보를 바탕으로 모임을 추천합니다.'}\n",
      "\n",
      "==============================\n",
      "\n",
      "--- 3. CHECK HELPFULNESS (LLM 호출) ---\n",
      "판단 결과: unhelpful\n",
      "DECISION: helpful\n",
      "--- Event: 'check_helpfulness' 노드 실행 ---\n",
      "{'decision': 'helpful'}\n",
      "\n",
      "==============================\n",
      "\n"
     ]
    }
   ],
   "source": [
    "# --- [1-6] 에이전트 실행 및 테스트 ---\n",
    "\n",
    "# 에이전트에게 던질 질문\n",
    "query = \"강남역 근처에서 코딩 스터디 할 곳 찾아줘\"\n",
    "\n",
    "# 에이전트의 초기 상태를 설정합니다.\n",
    "# rewrite_count는 0으로 시작합니다.\n",
    "initial_state = {\"query\": query, \"rewrite_count\": 0}\n",
    "\n",
    "# .stream()을 사용해 에이전트의 모든 작동 과정을 실시간으로 확인합니다.\n",
    "for event in meeting_agent.stream(initial_state):\n",
    "    # event 딕셔너리의 키(key)가 노드 이름입니다.\n",
    "    node_name = list(event.keys())[0]\n",
    "    # 해당 노드에서 나온 결과값(value)을 출력합니다.\n",
    "    node_output = event[node_name]\n",
    "    \n",
    "    print(f\"--- Event: '{node_name}' 노드 실행 ---\")\n",
    "    print(node_output)\n",
    "    print(\"\\n\" + \"=\"*30 + \"\\n\")"
   ]
  },
  {
   "cell_type": "code",
   "execution_count": null,
   "id": "5ef9e089",
   "metadata": {},
   "outputs": [],
   "source": []
  }
 ],
 "metadata": {
  "kernelspec": {
   "display_name": "MOIT_graph",
   "language": "python",
   "name": "python3"
  },
  "language_info": {
   "codemirror_mode": {
    "name": "ipython",
    "version": 3
   },
   "file_extension": ".py",
   "mimetype": "text/x-python",
   "name": "python",
   "nbconvert_exporter": "python",
   "pygments_lexer": "ipython3",
   "version": "3.13.7"
  }
 },
 "nbformat": 4,
 "nbformat_minor": 5
}
