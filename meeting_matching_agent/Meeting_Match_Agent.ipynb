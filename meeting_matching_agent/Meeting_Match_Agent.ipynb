{
 "cells": [
  {
   "cell_type": "code",
   "execution_count": 1,
   "id": "c8b50bdc",
   "metadata": {},
   "outputs": [
    {
     "name": "stdout",
     "output_type": "stream",
     "text": [
      "API 키가 성공적으로 로드되었습니다.\n"
     ]
    }
   ],
   "source": [
    "import os\n",
    "from dotenv import load_dotenv\n",
    "\n",
    "load_dotenv()\n",
    "\n",
    "# 4. API 키들이 잘 로드되었는지 확인합니다.\n",
    "if not os.getenv(\"OPENAI_API_KEY\") or not os.getenv(\"PINECONE_API_KEY\"):\n",
    "    print(\"OPENAI_API_KEY 또는 PINECONE_API_KEY가 .env 파일에 설정되지 않았습니다.\")\n",
    "else:\n",
    "    print(\"API 키가 성공적으로 로드되었습니다.\")"
   ]
  },
  {
   "cell_type": "code",
   "execution_count": 2,
   "id": "c3051559",
   "metadata": {},
   "outputs": [
    {
     "name": "stderr",
     "output_type": "stream",
     "text": [
      "c:\\Users\\user\\MOIT\\MOIT_AGENT\\MOIT_graph\\Lib\\site-packages\\tqdm\\auto.py:21: TqdmWarning: IProgress not found. Please update jupyter and ipywidgets. See https://ipywidgets.readthedocs.io/en/stable/user_install.html\n",
      "  from .autonotebook import tqdm as notebook_tqdm\n",
      "c:\\Users\\user\\MOIT\\MOIT_AGENT\\MOIT_graph\\Lib\\site-packages\\langchain_pinecone\\__init__.py:3: LangChainDeprecationWarning: As of langchain-core 0.3.0, LangChain uses pydantic v2 internally. The langchain_core.pydantic_v1 module was a compatibility shim for pydantic v1, and should no longer be used. Please update the code to import from Pydantic directly.\n",
      "\n",
      "For example, replace imports like: `from langchain_core.pydantic_v1 import BaseModel`\n",
      "with: `from pydantic import BaseModel`\n",
      "or the v1 compatibility namespace if you are working in a code base that has not been fully upgraded to pydantic 2 yet. \tfrom pydantic.v1 import BaseModel\n",
      "\n",
      "  from langchain_pinecone.vectorstores import Pinecone, PineconeVectorStore\n"
     ]
    },
    {
     "name": "stdout",
     "output_type": "stream",
     "text": [
      "AgentState가 정의되었습니다.\n",
      "LLM 모델(gpt-4o-mini)이 준비되었습니다.\n",
      "Pinecone 인덱스 'moit-event'가 성공적으로 준비되었습니다.\n"
     ]
    }
   ],
   "source": [
    "# --- 셀 2: State 정의 및 도구 준비 ---\n",
    "\n",
    "from typing import List, TypedDict\n",
    "from langchain_core.documents import Document\n",
    "from langchain_openai import OpenAIEmbeddings\n",
    "from langchain_pinecone import PineconeVectorStore\n",
    "from langchain_openai import ChatOpenAI\n",
    "\n",
    "# 1. 에이전트의 기억 상자(State) 양식을 정의합니다.\n",
    "class AgentState(TypedDict):\n",
    "    # --- 입력 데이터 ---\n",
    "    title: str\n",
    "    description: str\n",
    "    # --- 중간 과정 데이터 ---\n",
    "    query: str\n",
    "    context: List[Document]\n",
    "    answer: str\n",
    "    rewrite_count: int\n",
    "    decision: str\n",
    "\n",
    "print(\"AgentState가 정의되었습니다.\")\n",
    "\n",
    "# 2. LLM 모델을 준비합니다.\n",
    "llm = ChatOpenAI(model=\"gpt-4o-mini\")\n",
    "print(f\"LLM 모델({llm.model_name})이 준비되었습니다.\")\n",
    "\n",
    "# 3. Pinecone 데이터베이스를 준비합니다.\n",
    "# .env 파일에 PINECONE_INDEX_NAME=\"moit-agent-index\" 와 같이 설정해주세요.\n",
    "index_name = os.getenv(\"PINECONE_INDEX_NAME\")\n",
    "if not index_name:\n",
    "    print(\"PINECONE_INDEX_NAME이 .env 파일에 설정되지 않았습니다.\")\n",
    "else:\n",
    "    embedding_function = OpenAIEmbeddings(model='text-embedding-3-large')\n",
    "    \n",
    "    # 임시 테스트용 데이터 (인덱스가 비어있을 경우에만 추가됩니다)\n",
    "    temp_documents = [\n",
    "        Document(page_content=\"[강남] 매주 토요일 저녁 7시, 초보자를 위한 코딩 스터디 모임입니다. 파이썬 기초부터 함께 공부해요.\", metadata={\"location\": \"강남\", \"day\": \"토\"}),\n",
    "        Document(page_content=\"[홍대] 주말 오후 2시, 다 함께 보드게임 즐길 사람 모여라! 초심자 대환영.\", metadata={\"location\": \"홍대\", \"day\": \"주말\"}),\n",
    "    ]\n",
    "    \n",
    "    # Pinecone 인덱스에 연결하고, 데이터가 없으면 임시 데이터를 추가합니다.\n",
    "    vector_store = PineconeVectorStore.from_documents(\n",
    "        documents=temp_documents,\n",
    "        embedding=embedding_function,\n",
    "        index_name=index_name\n",
    "    )\n",
    "    retriever = vector_store.as_retriever(search_kwargs={'k': 2})\n",
    "    \n",
    "    print(f\"Pinecone 인덱스 '{index_name}'가 성공적으로 준비되었습니다.\")"
   ]
  },
  {
   "cell_type": "code",
   "execution_count": 3,
   "id": "ddf29e71",
   "metadata": {},
   "outputs": [
    {
     "name": "stdout",
     "output_type": "stream",
     "text": [
      "모든 노드 함수가 최신 버전으로 정의되었습니다!\n"
     ]
    }
   ],
   "source": [
    "# --- 셀 3: 모든 노드(행동) 함수 정의 ---\n",
    "\n",
    "from langchain_core.prompts import ChatPromptTemplate\n",
    "from langchain_core.output_parsers import StrOutputParser\n",
    "\n",
    "# --- Node 1: 정보 검색 (retrieve) ---\n",
    "def retrieve(state: AgentState):\n",
    "    \"\"\"DB에서 관련 모임 정보를 검색합니다.\"\"\"\n",
    "    print(\"--- 1. RETRIEVE ---\")\n",
    "    query = state['query']\n",
    "    context = retriever.invoke(query)\n",
    "    print(\"검색된 정보:\", [doc.page_content for doc in context])\n",
    "    return {\"context\": context}\n",
    "\n",
    "# --- Node 2: 답변 생성 (generate) ---\n",
    "generate_prompt = ChatPromptTemplate.from_template(\n",
    "    \"\"\"당신은 MOIT 플랫폼의 친절한 모임 추천 AI입니다.\n",
    "    사용자에게 모임을 추천할 때는 반드시 아래 [검색된 정보]를 기반으로, 어떤 모임인지 명확하게 설명해주세요.\n",
    "\n",
    "    [검색된 정보]:\n",
    "    {context}\n",
    "\n",
    "    [사용자 질문]:\n",
    "    {query}\n",
    "    \"\"\"\n",
    ")\n",
    "generate_chain = generate_prompt | llm | StrOutputParser()\n",
    "\n",
    "def generate(state: AgentState):\n",
    "    \"\"\"검색된 정보를 바탕으로 답변을 생성합니다.\"\"\"\n",
    "    print(\"--- 2. GENERATE (LLM 호출) ---\")\n",
    "    query = state['query']\n",
    "    context_docs = state['context']\n",
    "    context = \"\\n\\n\".join(doc.page_content for doc in context_docs)\n",
    "    answer = generate_chain.invoke({\"context\": context, \"query\": query})\n",
    "    print(\"생성된 답변:\", answer)\n",
    "    return {\"answer\": answer}\n",
    "\n",
    "# --- Node 3: 유용성 검증 (check_helpfulness) ---\n",
    "check_helpfulness_prompt = ChatPromptTemplate.from_template(\n",
    "    \"\"\"당신은 AI 답변을 평가하는 엄격한 평가관입니다.\n",
    "    주어진 [AI 답변]이 사용자의 [원본 질문]에 대해 정말로 유용하고 직접적인 답변을 하는지 평가해주세요.\n",
    "    'helpful' 또는 'unhelpful' 둘 중 하나로만 답변해야 합니다.\n",
    "\n",
    "    [원본 질문]: {query}\n",
    "    [AI 답변]: {answer}\n",
    "    \"\"\"\n",
    ")\n",
    "check_helpfulness_chain = check_helpfulness_prompt | llm | StrOutputParser()\n",
    "\n",
    "def check_helpfulness(state: AgentState):\n",
    "    \"\"\"답변이 사용자에게 도움이 되는지 검증합니다.\"\"\"\n",
    "    print(\"--- 3. CHECK HELPFULNESS (LLM 호출) ---\")\n",
    "    query = state['query']\n",
    "    answer = state['answer']\n",
    "    result = check_helpfulness_chain.invoke({\"query\": query, \"answer\": answer})\n",
    "    print(\"판단 결과:\", result)\n",
    "    if 'helpful' in result.lower():\n",
    "        print(\"DECISION: helpful\")\n",
    "        return {\"decision\": \"helpful\"}\n",
    "    else:\n",
    "        print(\"DECISION: unhelpful\")\n",
    "        return {\"decision\": \"unhelpful\"}\n",
    "\n",
    "# --- Node 4: 질문 재작성 (rewrite_query) ---\n",
    "rewrite_query_prompt = ChatPromptTemplate.from_template(\n",
    "    \"\"\"당신은 사용자의 질문을 더 좋은 검색 결과가 나올 수 있도록 명확하게 다듬는 프롬프트 엔지니어입니다.\n",
    "    주어진 [원본 질문]을 바탕으로, 벡터 데이터베이스에서 더 관련성 높은 모임 정보를 찾을 수 있는 새로운 검색 질문을 하나만 만들어주세요.\n",
    "    결과는 오직 새로운 검색 질문 텍스트만 포함해야 합니다.\n",
    "\n",
    "    [원본 질문]: {query}\n",
    "    \"\"\"\n",
    ")\n",
    "rewrite_query_chain = rewrite_query_prompt | llm | StrOutputParser()\n",
    "\n",
    "def rewrite_query(state: AgentState):\n",
    "    \"\"\"검색 결과가 별로일 때, 질문을 더 좋게 다시 작성합니다.\"\"\"\n",
    "    print(\"--- 4. REWRITE QUERY (LLM 호출) ---\")\n",
    "    query = state['query']\n",
    "    new_query = rewrite_query_chain.invoke({\"query\": query})\n",
    "    count = state.get('rewrite_count', 0) + 1\n",
    "    print(\"새롭게 작성된 질문:\", new_query)\n",
    "    return {\"query\": new_query, \"rewrite_count\": count}\n",
    "\n",
    "print(\"모든 노드 함수가 최신 버전으로 정의되었습니다!\")"
   ]
  },
  {
   "cell_type": "code",
   "execution_count": 4,
   "id": "0c0b856f",
   "metadata": {},
   "outputs": [],
   "source": [
    "# --- [추가] 새로운 노드: 입력 정보 조합 (prepare_query) ---\n",
    "\n",
    "prepare_query_prompt = ChatPromptTemplate.from_template(\n",
    "    \"\"\"당신은 사용자가 입력한 정보를 바탕으로 유사한 다른 정보를 검색하기 위한 최적의 검색어를 만드는 전문가입니다.\n",
    "    아래 [모임 정보]를 바탕으로, 벡터 데이터베이스에서 유사한 모임을 찾기 위한 핵심적인 검색 질문을 한 문장으로 만들어주세요.\n",
    "\n",
    "    [모임 정보]:\n",
    "    - 제목: {title}\n",
    "    - 설명: {description}\n",
    "    \"\"\"\n",
    ")\n",
    "prepare_query_chain = prepare_query_prompt | llm | StrOutputParser()\n",
    "\n",
    "def prepare_query(state: AgentState):\n",
    "    \"\"\"사용자가 입력한 모임 정보를 바탕으로 검색용 쿼리를 생성합니다.\"\"\"\n",
    "    print(\"--- 0. PREPARE QUERY (LLM 호출) ---\")\n",
    "    \n",
    "    title = state['title']\n",
    "    description = state['description']\n",
    "    \n",
    "    query = prepare_query_chain.invoke({\n",
    "        \"title\": title,\n",
    "        \"description\": description\n",
    "    })\n",
    "    \n",
    "    print(\"생성된 검색 쿼리:\", query)\n",
    "    return {\"query\": query}"
   ]
  },
  {
   "cell_type": "code",
   "execution_count": 5,
   "id": "cc341857",
   "metadata": {},
   "outputs": [
    {
     "name": "stdout",
     "output_type": "stream",
     "text": [
      "그래프가 성공적으로 완성되었습니다!\n"
     ]
    }
   ],
   "source": [
    "# --- 셀 4: 그래프 조립 ---\n",
    "\n",
    "from langgraph.graph import StateGraph, END\n",
    "\n",
    "# 1. 그래프 빌더를 생성합니다.\n",
    "graph_builder = StateGraph(AgentState)\n",
    "\n",
    "# 2. 노드들을 그래프에 등록합니다.\n",
    "graph_builder.add_node(\"prepare_query\", prepare_query) # <-- 추가\n",
    "graph_builder.add_node(\"retrieve\", retrieve)\n",
    "graph_builder.add_node(\"generate\", generate)\n",
    "graph_builder.add_node(\"check_helpfulness\", check_helpfulness)\n",
    "graph_builder.add_node(\"rewrite_query\", rewrite_query)\n",
    "\n",
    "# 3. 작업 흐름(엣지)을 연결합니다.\n",
    "graph_builder.set_entry_point(\"prepare_query\")      # <-- 시작점을 'prepare_query'로 변경\n",
    "graph_builder.add_edge(\"prepare_query\", \"retrieve\") # <-- 'prepare_query' 다음에 'retrieve' 실행\n",
    "graph_builder.add_edge(\"retrieve\", \"generate\")\n",
    "graph_builder.add_edge(\"generate\", \"check_helpfulness\")\n",
    "graph_builder.add_conditional_edges(\n",
    "    \"check_helpfulness\",\n",
    "    lambda state: state['decision'],\n",
    "    {\n",
    "        \"helpful\": END,\n",
    "        \"unhelpful\": \"rewrite_query\"\n",
    "    }\n",
    ")\n",
    "graph_builder.add_edge(\"rewrite_query\", \"retrieve\")\n",
    "\n",
    "# 4. 최종 에이전트를 완성(컴파일)합니다.\n",
    "meeting_agent = graph_builder.compile()\n",
    "\n",
    "print(\"그래프가 성공적으로 완성되었습니다!\")"
   ]
  },
  {
   "cell_type": "code",
   "execution_count": 7,
   "id": "aacd3c69",
   "metadata": {},
   "outputs": [
    {
     "data": {
      "image/png": "[encoded data removed]",
      "text/plain": [
       "<IPython.core.display.Image object>"
      ]
     },
     "metadata": {},
     "output_type": "display_data"
    }
   ],
   "source": [
    "# --- 셀 5: 에이전트 실행 및 시각화 ---\n",
    "from IPython.display import Image, display\n",
    "\n",
    "# 1. 그래프 시각화\n",
    "try:\n",
    "    img_data = meeting_agent.get_graph().draw_mermaid_png()\n",
    "    display(Image(img_data))\n",
    "except Exception as e:\n",
    "    print(f\"그래프 시각화 오류: {e}\")"
   ]
  },
  {
   "cell_type": "code",
   "execution_count": 8,
   "id": "12d6ce40",
   "metadata": {},
   "outputs": [
    {
     "name": "stdout",
     "output_type": "stream",
     "text": [
      "\n",
      "--- 에이전트 실행 시작 ---\n",
      "--- 0. PREPARE QUERY (LLM 호출) ---\n",
      "생성된 검색 쿼리: \"강남역 근처 카페에서 파이썬 기초 공부를 함께 할 초보자 중심의 스터디 모임을 찾고 있습니다.\"\n",
      "--- Event: 'prepare_query' 노드 실행 ---\n",
      "{'query': '\"강남역 근처 카페에서 파이썬 기초 공부를 함께 할 초보자 중심의 스터디 모임을 찾고 있습니다.\"'}\n",
      "\n",
      "==============================\n",
      "\n",
      "--- 1. RETRIEVE ---\n",
      "검색된 정보: ['[강남] 매주 토요일 저녁 7시, 초보자를 위한 코딩 스터디 모임입니다. 파이썬 기초부터 함께 공부해요.', '[강남] 매주 토요일 저녁 7시, 초보자를 위한 코딩 스터디 모임입니다. 파이썬 기초부터 함께 공부해요.']\n",
      "--- Event: 'retrieve' 노드 실행 ---\n",
      "{'context': [Document(id='f0f5d857-ee82-4e6a-90cf-baef2ff46af3', metadata={'day': '토', 'location': '강남'}, page_content='[강남] 매주 토요일 저녁 7시, 초보자를 위한 코딩 스터디 모임입니다. 파이썬 기초부터 함께 공부해요.'), Document(id='2accc0c9-f269-424f-9b94-b16b44afe34f', metadata={'day': '토', 'location': '강남'}, page_content='[강남] 매주 토요일 저녁 7시, 초보자를 위한 코딩 스터디 모임입니다. 파이썬 기초부터 함께 공부해요.')]}\n",
      "\n",
      "==============================\n",
      "\n",
      "--- 2. GENERATE (LLM 호출) ---\n",
      "생성된 답변: 강남역 근처에서 초보자 중심의 파이썬 기초 공부를 함께 할 수 있는 모임을 추천드립니다. 매주 토요일 저녁 7시에 진행되는 코딩 스터디 모임으로, 초보자를 위해 설계된 프로그램입니다. 파이썬의 기초를 함께 학습하며, 서로 지원하고 교류하는 좋은 기회가 될 것입니다. 관심 있으시면 참여해 보세요!\n",
      "--- Event: 'generate' 노드 실행 ---\n",
      "{'answer': '강남역 근처에서 초보자 중심의 파이썬 기초 공부를 함께 할 수 있는 모임을 추천드립니다. 매주 토요일 저녁 7시에 진행되는 코딩 스터디 모임으로, 초보자를 위해 설계된 프로그램입니다. 파이썬의 기초를 함께 학습하며, 서로 지원하고 교류하는 좋은 기회가 될 것입니다. 관심 있으시면 참여해 보세요!'}\n",
      "\n",
      "==============================\n",
      "\n",
      "--- 3. CHECK HELPFULNESS (LLM 호출) ---\n",
      "판단 결과: helpful\n",
      "DECISION: helpful\n",
      "--- Event: 'check_helpfulness' 노드 실행 ---\n",
      "{'decision': 'helpful'}\n",
      "\n",
      "==============================\n",
      "\n"
     ]
    }
   ],
   "source": [
    "# 2. 에이전트 실행\n",
    "initial_state = {\n",
    "    \"title\": \"토요일 저녁에 코딩 공부하실 분!\",\n",
    "    \"description\": \"강남역 근처 카페에서 파이썬 기초 스터디 하려고 합니다. 초보자 환영!\",\n",
    "    \"rewrite_count\": 0\n",
    "}\n",
    "\n",
    "print(\"\\n--- 에이전트 실행 시작 ---\")\n",
    "for event in meeting_agent.stream(initial_state):\n",
    "    node_name = list(event.keys())[0]\n",
    "    node_output = event[node_name]\n",
    "    \n",
    "    print(f\"--- Event: '{node_name}' 노드 실행 ---\")\n",
    "    print(node_output)\n",
    "    print(\"\\n\" + \"=\"*30 + \"\\n\")"
   ]
  },
  {
   "cell_type": "code",
   "execution_count": null,
   "id": "461cbbf0",
   "metadata": {},
   "outputs": [],
   "source": []
  }
 ],
 "metadata": {
  "kernelspec": {
   "display_name": "MOIT_graph",
   "language": "python",
   "name": "python3"
  },
  "language_info": {
   "codemirror_mode": {
    "name": "ipython",
    "version": 3
   },
   "file_extension": ".py",
   "mimetype": "text/x-python",
   "name": "python",
   "nbconvert_exporter": "python",
   "pygments_lexer": "ipython3",
   "version": "3.13.7"
  }
 },
 "nbformat": 4,
 "nbformat_minor": 5
}
